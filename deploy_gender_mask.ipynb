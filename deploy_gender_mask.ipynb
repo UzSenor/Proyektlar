{
 "cells": [
  {
   "cell_type": "code",
   "execution_count": 1,
   "id": "c57b4621-34fe-4e0f-aadd-7778726bde0b",
   "metadata": {},
   "outputs": [],
   "source": [
    "import cv2\n",
    "from tensorflow.keras.models import load_model\n",
    "from tensorflow.keras.applications.mobilenet_v2 import preprocess_input\n",
    "import numpy as np"
   ]
  },
  {
   "cell_type": "code",
   "execution_count": 2,
   "id": "8e45a2e6-33e3-4a73-bf95-cf67e3fc3bf6",
   "metadata": {},
   "outputs": [],
   "source": [
    "mask = load_model(\"model_aug.h5\")\n",
    "gender = load_model(\"man_woman.h5\")\n",
    "face_cascade = cv2.CascadeClassifier(\"haarcascade_frontalface_default.xml\")"
   ]
  },
  {
   "cell_type": "markdown",
   "id": "e8ec431d-6174-44ba-ae35-9e2c87f7c932",
   "metadata": {},
   "source": [
    "# Ayol yoki erkakning maskasi bor, yo'qligini topuvchi dastur"
   ]
  },
  {
   "cell_type": "code",
   "execution_count": 3,
   "id": "9623a983-0215-4de4-90b1-64913eccdfd4",
   "metadata": {},
   "outputs": [],
   "source": [
    "cap = cv2.VideoCapture(\"clip7.mp4\")\n",
    "\n",
    "while True:  \n",
    "    ret, img = cap.read()  \n",
    "    gray_img = cv2.cvtColor(img, cv2.COLOR_BGR2GRAY) \n",
    "    faces = face_cascade.detectMultiScale(gray_img, 1.25, 4, minSize=(10, 10), flags=cv2.CASCADE_SCALE_IMAGE) \n",
    "    \n",
    "    if len(faces) != 0:\n",
    "        for (x,y,w,h) in faces: \n",
    "            cv2.rectangle(img,(x,y),(x+w,y+h),(0,255,0),2)  \n",
    "            rec_gray = gray_img[y:y+h, x:x+w] \n",
    "            rec_color = img[y:y+h, x:x+w, :]\n",
    "            \n",
    "            rec_color = cv2.resize(rec_color,(224, 224), interpolation=cv2.INTER_CUBIC)\n",
    "            rec_color = preprocess_input(rec_color)\n",
    "            gen_res = gender.predict(np.expand_dims(rec_color, 0), verbose=0)\n",
    "            \n",
    "            if np.round(gen_res[0][0]) == 1:\n",
    "                mask_res = mask.predict(np.expand_dims(rec_color, 0), verbose=0)\n",
    "                if np.round(mask_res[0][0]) == 1:\n",
    "                    status = \"Maskali Erkak\"\n",
    "                else:\n",
    "                    status = \"Maskasiz Erkak\"                \n",
    "            else:\n",
    "                mask_res = mask.predict(np.expand_dims(rec_color, 0), verbose=0)\n",
    "                if np.round(mask_res[0][0]) == 1:\n",
    "                    status = \"Maskali Ayol\"\n",
    "                else:\n",
    "                    status = \"Maskasiz Ayol\" \n",
    "            img = cv2.putText(img, status, (x,y-15), cv2.FONT_HERSHEY_SIMPLEX, 1, (0,255,0), 2, cv2.LINE_AA)\n",
    "            \n",
    "    else:\n",
    "        maska_statusi = \"Yuz topilmadi!\"\n",
    "        img = cv2.putText(img, maska_statusi, (10,30), cv2.FONT_HERSHEY_SIMPLEX, 1, (0,0,255), 2, cv2.LINE_AA)\n",
    "    cv2.imshow(\"Mask detection\",img) \n",
    "  \n",
    "    if cv2.waitKey(1) & 0xFF == ord(\"q\"):\n",
    "        break\n",
    "\n",
    "cap.release() \n",
    "cv2.destroyAllWindows()"
   ]
  },
  {
   "cell_type": "markdown",
   "id": "5445c566-4f2f-47d8-95b0-aa0d700c048d",
   "metadata": {},
   "source": [
    "# Web camera orqali"
   ]
  },
  {
   "cell_type": "code",
   "execution_count": 10,
   "id": "59aa0fb7-ddc2-4626-81de-e659e7ec1ee5",
   "metadata": {},
   "outputs": [],
   "source": [
    "import cvlib"
   ]
  },
  {
   "cell_type": "code",
   "execution_count": 11,
   "id": "019c8f05-7add-4264-ad42-31d1dbb206d6",
   "metadata": {
    "collapsed": true,
    "jupyter": {
     "outputs_hidden": true
    },
    "tags": []
   },
   "outputs": [
    {
     "ename": "error",
     "evalue": "Unknown C++ exception from OpenCV code",
     "output_type": "error",
     "traceback": [
      "\u001b[1;31m---------------------------------------------------------------------------\u001b[0m",
      "\u001b[1;31merror\u001b[0m                                     Traceback (most recent call last)",
      "Cell \u001b[1;32mIn[11], line 7\u001b[0m\n\u001b[0;32m      5\u001b[0m img \u001b[38;5;241m=\u001b[39m cv2\u001b[38;5;241m.\u001b[39mcvtColor(img, cv2\u001b[38;5;241m.\u001b[39mCOLOR_BGR2RGB) \n\u001b[0;32m      6\u001b[0m \u001b[38;5;66;03m#faces = face_cascade.detectMultiScale(gray_img, 1.25, 4, minSize=(10, 10), flags=cv2.CASCADE_SCALE_IMAGE) \u001b[39;00m\n\u001b[1;32m----> 7\u001b[0m yuz \u001b[38;5;241m=\u001b[39m \u001b[43mcvlib\u001b[49m\u001b[38;5;241;43m.\u001b[39;49m\u001b[43mdetect_face\u001b[49m\u001b[43m(\u001b[49m\u001b[43mimg\u001b[49m\u001b[43m)\u001b[49m[\u001b[38;5;241m0\u001b[39m]\n\u001b[0;32m      8\u001b[0m \u001b[38;5;28;01mif\u001b[39;00m \u001b[38;5;28mlen\u001b[39m(yuz) \u001b[38;5;241m!=\u001b[39m \u001b[38;5;241m0\u001b[39m:\n\u001b[0;32m      9\u001b[0m     \u001b[38;5;28;01mfor\u001b[39;00m (x1,y1,x2,y2) \u001b[38;5;129;01min\u001b[39;00m yuz: \n",
      "File \u001b[1;32m~\\AppData\\Roaming\\Python\\Python39\\site-packages\\cvlib\\face_detection.py:50\u001b[0m, in \u001b[0;36mdetect_face\u001b[1;34m(image, threshold, enable_gpu)\u001b[0m\n\u001b[0;32m     47\u001b[0m net\u001b[38;5;241m.\u001b[39msetInput(blob)\n\u001b[0;32m     49\u001b[0m \u001b[38;5;66;03m# apply face detection\u001b[39;00m\n\u001b[1;32m---> 50\u001b[0m detections \u001b[38;5;241m=\u001b[39m \u001b[43mnet\u001b[49m\u001b[38;5;241;43m.\u001b[39;49m\u001b[43mforward\u001b[49m\u001b[43m(\u001b[49m\u001b[43m)\u001b[49m\n\u001b[0;32m     52\u001b[0m faces \u001b[38;5;241m=\u001b[39m []\n\u001b[0;32m     53\u001b[0m confidences \u001b[38;5;241m=\u001b[39m []\n",
      "\u001b[1;31merror\u001b[0m: Unknown C++ exception from OpenCV code"
     ]
    }
   ],
   "source": [
    "cap = cv2.VideoCapture(0)\n",
    "\n",
    "while True:  \n",
    "    ret, img = cap.read()  \n",
    "    img = cv2.cvtColor(img, cv2.COLOR_BGR2RGB) \n",
    "    #faces = face_cascade.detectMultiScale(gray_img, 1.25, 4, minSize=(10, 10), flags=cv2.CASCADE_SCALE_IMAGE) \n",
    "    yuz = cvlib.detect_face(img)[0]\n",
    "    if len(yuz) != 0:\n",
    "        for (x1,y1,x2,y2) in yuz: \n",
    "            cv2.rectangle(img,(x1,y1),(x2,y2),(0,255,0),2)  \n",
    "            #rec_gray = gray_img[y1:y2, x1:x2] \n",
    "            rec_color = img[y1:y2, x1:x2, :]\n",
    "            \n",
    "            rec_color = cv2.resize(rec_color,(224, 224), interpolation=cv2.INTER_CUBIC)\n",
    "            rec_color = preprocess_input(rec_color)\n",
    "            gen_res = gender.predict(np.expand_dims(rec_color, 0), verbose=0)\n",
    "            \n",
    "            if np.round(gen_res[0][0]) == 1:\n",
    "                mask_res = mask.predict(np.expand_dims(rec_color, 0), verbose=0)\n",
    "                if np.round(mask_res[0][0]) == 1:\n",
    "                    status = \"Maskali Erkak\"\n",
    "                else:\n",
    "                    status = \"Maskasiz Erkak\"                \n",
    "            else:\n",
    "                mask_res = mask.predict(np.expand_dims(rec_color, 0), verbose=0)\n",
    "                if np.round(mask_res[0][0]) == 1:\n",
    "                    status = \"Maskali Ayol\"\n",
    "                else:\n",
    "                    status = \"Maskasiz Ayol\" \n",
    "            img = cv2.putText(img, status, (x1,y1), cv2.FONT_HERSHEY_SIMPLEX, 1, (0,255,0), 2, cv2.LINE_AA)\n",
    "            \n",
    "    else:\n",
    "        maska_statusi = \"Yuz topilmadi!\"\n",
    "        img = cv2.putText(img, maska_statusi, (10,30), cv2.FONT_HERSHEY_SIMPLEX, 1, (0,0,255), 2, cv2.LINE_AA)\n",
    "    cv2.imshow(\"Mask detection\",img) \n",
    "  \n",
    "    if cv2.waitKey(1) & 0xFF == ord(\"q\"):\n",
    "        break\n",
    "\n",
    "cap.release() \n",
    "cv2.destroyAllWindows()"
   ]
  },
  {
   "cell_type": "code",
   "execution_count": 12,
   "id": "08ab3e7c-ca4b-480c-8248-07979b517abc",
   "metadata": {},
   "outputs": [
    {
     "ename": "error",
     "evalue": "Unknown C++ exception from OpenCV code",
     "output_type": "error",
     "traceback": [
      "\u001b[1;31m---------------------------------------------------------------------------\u001b[0m",
      "\u001b[1;31merror\u001b[0m                                     Traceback (most recent call last)",
      "Cell \u001b[1;32mIn[12], line 8\u001b[0m\n\u001b[0;32m      6\u001b[0m ret,kadr \u001b[38;5;241m=\u001b[39m video\u001b[38;5;241m.\u001b[39mread()\n\u001b[0;32m      7\u001b[0m kadr \u001b[38;5;241m=\u001b[39m cv2\u001b[38;5;241m.\u001b[39mcvtColor(kadr,cv2\u001b[38;5;241m.\u001b[39mCOLOR_BGR2RGB)\n\u001b[1;32m----> 8\u001b[0m yuz \u001b[38;5;241m=\u001b[39m \u001b[43mcvlib\u001b[49m\u001b[38;5;241;43m.\u001b[39;49m\u001b[43mdetect_face\u001b[49m\u001b[43m(\u001b[49m\u001b[43mkadr\u001b[49m\u001b[43m)\u001b[49m[\u001b[38;5;241m0\u001b[39m]\n\u001b[0;32m     10\u001b[0m \u001b[38;5;28;01mfor\u001b[39;00m x1,y1,x2,y2 \u001b[38;5;129;01min\u001b[39;00m yuz:\n\u001b[0;32m     11\u001b[0m     yuz_rasm \u001b[38;5;241m=\u001b[39m kadr[y1:y2,x1:x2]\n",
      "File \u001b[1;32m~\\AppData\\Roaming\\Python\\Python39\\site-packages\\cvlib\\face_detection.py:50\u001b[0m, in \u001b[0;36mdetect_face\u001b[1;34m(image, threshold, enable_gpu)\u001b[0m\n\u001b[0;32m     47\u001b[0m net\u001b[38;5;241m.\u001b[39msetInput(blob)\n\u001b[0;32m     49\u001b[0m \u001b[38;5;66;03m# apply face detection\u001b[39;00m\n\u001b[1;32m---> 50\u001b[0m detections \u001b[38;5;241m=\u001b[39m \u001b[43mnet\u001b[49m\u001b[38;5;241;43m.\u001b[39;49m\u001b[43mforward\u001b[49m\u001b[43m(\u001b[49m\u001b[43m)\u001b[49m\n\u001b[0;32m     52\u001b[0m faces \u001b[38;5;241m=\u001b[39m []\n\u001b[0;32m     53\u001b[0m confidences \u001b[38;5;241m=\u001b[39m []\n",
      "\u001b[1;31merror\u001b[0m: Unknown C++ exception from OpenCV code"
     ]
    }
   ],
   "source": [
    "video = cv2.VideoCapture(\"clip7.mp4\")\n",
    "\n",
    "toifalar = ['Maskali', 'Maskasiz']\n",
    "\n",
    "while video.isOpened():\n",
    "    ret,kadr = video.read()\n",
    "    kadr = cv2.cvtColor(kadr,cv2.COLOR_BGR2RGB)\n",
    "    yuz = cvlib.detect_face(kadr)[0]\n",
    "    \n",
    "    for x1,y1,x2,y2 in yuz:\n",
    "        yuz_rasm = kadr[y1:y2,x1:x2]\n",
    "        yuz_rasm = cv2.resize(yuz_rasm,(224,224))\n",
    "        yuz_rasm = np.expand_dims(yuz_rasm,0)\n",
    "        natija = np.argmax(model1.predict(yuz_rasm))\n",
    "        \n",
    "        if natija == 0:\n",
    "            cv2.rectangle(kadr,(x1,y1),(x2,y2),(0,255,0),3)\n",
    "            cv2.putText(kadr,\"Maskali\",(x1,y1),cv2.FONT_HERSHEY_SIMPLEX,1,(0,255,0),4)\n",
    "        else:\n",
    "            cv2.rectangle(kadr,(x1,y1),(x2,y2),(0,0,255),3)\n",
    "            cv2.putText(kadr,\"Maskasiz\",(x1,y1),cv2.FONT_HERSHEY_SIMPLEX,1,(0,0,255),4)\n",
    "    \n",
    "    cv2.imshow(\"Maska\",kadr)\n",
    "    \n",
    "    if cv2.waitKey(10) & 0xFF==ord(\"q\"):\n",
    "        break\n",
    "        \n",
    "cv2.destroyAllWindows()\n",
    "video.release()"
   ]
  },
  {
   "cell_type": "code",
   "execution_count": null,
   "id": "1cabaf1d-db2d-4ad6-941d-f1b14305bcfc",
   "metadata": {},
   "outputs": [],
   "source": [
    "mask = load_model(\"model_aug.h5\")\n",
    "gender = load_model(\"man_woman.h5\")"
   ]
  },
  {
   "cell_type": "code",
   "execution_count": 4,
   "id": "0e4c2ee7-2c34-41f0-958f-5a1e4955f3f8",
   "metadata": {},
   "outputs": [
    {
     "name": "stdin",
     "output_type": "stream",
     "text": [
      "Model nomi: jins\n"
     ]
    }
   ],
   "source": [
    "name = input(\"Model nomi:\")\n",
    "\n",
    "def model(name):\n",
    "    cap = cv2.VideoCapture(0)\n",
    "    model = load_model(f\"{name}.h5\")\n",
    "    face_cascade = cv2.CascadeClassifier(\"haarcascade_frontalface_default.xml\")\n",
    "    ret, img = cap.read()  \n",
    "    gray_img = cv2.cvtColor(img, cv2.COLOR_BGR2GRAY) \n",
    "    faces = face_cascade.detectMultiScale(gray_img, 1.25, 4, minSize=(10, 10), flags=cv2.CASCADE_SCALE_IMAGE) \n",
    "    while True:\n",
    "        if len(faces) != 0:\n",
    "            for (x,y,w,h) in faces: \n",
    "                cv2.rectangle(img,(x,y),(x+w,y+h),(0,255,0),2)  \n",
    "                rec_gray = gray_img[y:y+h, x:x+w] \n",
    "                rec_color = img[y:y+h, x:x+w, :]\n",
    "\n",
    "                rec_color = cv2.resize(rec_color,(224, 224), interpolation=cv2.INTER_CUBIC)\n",
    "                rec_color = preprocess_input(rec_color)\n",
    "                gen_res = model.predict(np.expand_dims(rec_color, 0), verbose=0)\n",
    "\n",
    "                if np.round(gen_res[0][0]) == 1:\n",
    "                    mask_res = mask.predict(np.expand_dims(rec_color, 0), verbose=0)\n",
    "                    if np.round(mask_res[0][0]) == 1:\n",
    "                        status = \"Maskali Erkak\"\n",
    "                    else:\n",
    "                        status = \"Maskasiz Erkak\"                \n",
    "                else:\n",
    "                    mask_res = mask.predict(np.expand_dims(rec_color, 0), verbose=0)\n",
    "                    if np.round(mask_res[0][0]) == 1:\n",
    "                        status = \"Maskali Ayol\"\n",
    "                    else:\n",
    "                        status = \"Maskasiz Ayol\" \n",
    "                img = cv2.putText(img, status, (x,y-15), cv2.FONT_HERSHEY_SIMPLEX, 1, (0,255,0), 2, cv2.LINE_AA)\n",
    "\n",
    "        else:\n",
    "            maska_statusi = \"Yuz topilmadi!\"\n",
    "            img = cv2.putText(img, maska_statusi, (10,30), cv2.FONT_HERSHEY_SIMPLEX, 1, (0,0,255), 2, cv2.LINE_AA)\n",
    "        cv2.imshow(\"Mask detection\",img) \n",
    "\n",
    "        if cv2.waitKey(0) & 0xFF == ord(\"q\"):\n",
    "            break\n",
    "\n",
    "    cap.release() \n",
    "    cv2.destroyAllWindows()\n",
    "model(name)"
   ]
  },
  {
   "cell_type": "code",
   "execution_count": null,
   "id": "61a51688-7587-4136-b37f-6a8802113706",
   "metadata": {},
   "outputs": [],
   "source": []
  }
 ],
 "metadata": {
  "kernelspec": {
   "display_name": "Python 3 (ipykernel)",
   "language": "python",
   "name": "python3"
  },
  "language_info": {
   "codemirror_mode": {
    "name": "ipython",
    "version": 3
   },
   "file_extension": ".py",
   "mimetype": "text/x-python",
   "name": "python",
   "nbconvert_exporter": "python",
   "pygments_lexer": "ipython3",
   "version": "3.9.8"
  }
 },
 "nbformat": 4,
 "nbformat_minor": 5
}
