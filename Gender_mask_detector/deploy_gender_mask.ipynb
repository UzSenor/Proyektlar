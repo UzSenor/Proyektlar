{
 "cells": [
  {
   "cell_type": "code",
   "execution_count": 21,
   "id": "c57b4621-34fe-4e0f-aadd-7778726bde0b",
   "metadata": {},
   "outputs": [],
   "source": [
    "import cv2\n",
    "from tensorflow.keras.models import load_model\n",
    "from tensorflow.keras.applications.mobilenet_v2 import preprocess_input\n",
    "import numpy as np"
   ]
  },
  {
   "cell_type": "code",
   "execution_count": 13,
   "id": "8e45a2e6-33e3-4a73-bf95-cf67e3fc3bf6",
   "metadata": {},
   "outputs": [],
   "source": [
    "mask = load_model(\"model_aug.h5\")\n",
    "gender = load_model(\"man_woman.h5\")\n",
    "face_cascade = cv2.CascadeClassifier(\"haarcascade_frontalface_default.xml\")"
   ]
  },
  {
   "cell_type": "markdown",
   "id": "e8ec431d-6174-44ba-ae35-9e2c87f7c932",
   "metadata": {},
   "source": [
    "# Ayol yoki erkakning maskasi bor, yo'qligini topuvchi dastur"
   ]
  },
  {
   "cell_type": "code",
   "execution_count": 22,
   "id": "9623a983-0215-4de4-90b1-64913eccdfd4",
   "metadata": {},
   "outputs": [],
   "source": [
    "cap = cv2.VideoCapture(0)\n",
    "\n",
    "while True:  \n",
    "    ret, img = cap.read()  \n",
    "    gray_img = cv2.cvtColor(img, cv2.COLOR_BGR2GRAY) \n",
    "    faces = face_cascade.detectMultiScale(gray_img, 1.25, 4, minSize=(10, 10), flags=cv2.CASCADE_SCALE_IMAGE) \n",
    "    \n",
    "    if len(faces) != 0:\n",
    "        for (x,y,w,h) in faces: \n",
    "            cv2.rectangle(img,(x,y),(x+w,y+h),(0,255,0),2)  \n",
    "            rec_gray = gray_img[y:y+h, x:x+w] \n",
    "            rec_color = img[y:y+h, x:x+w, :]\n",
    "            \n",
    "            rec_color = cv2.resize(rec_color,(224, 224), interpolation=cv2.INTER_CUBIC)\n",
    "            rec_color = preprocess_input(rec_color)\n",
    "            gen_res = gender.predict(np.expand_dims(rec_color, 0), verbose=0)\n",
    "            \n",
    "            if np.round(gen_res[0][0]) == 1:\n",
    "                mask_res = mask.predict(np.expand_dims(rec_color, 0), verbose=0)\n",
    "                if np.round(mask_res[0][0]) == 1:\n",
    "                    status = \"Maskali Erkak\"\n",
    "                else:\n",
    "                    status = \"Maskasiz Erkak\"                \n",
    "            else:\n",
    "                mask_res = mask.predict(np.expand_dims(rec_color, 0), verbose=0)\n",
    "                if np.round(mask_res[0][0]) == 1:\n",
    "                    status = \"Maskali Ayol\"\n",
    "                else:\n",
    "                    status = \"Maskasiz Ayol\" \n",
    "            img = cv2.putText(img, status, (x,y-15), cv2.FONT_HERSHEY_SIMPLEX, 1, (0,255,0), 2, cv2.LINE_AA)\n",
    "            \n",
    "    else:\n",
    "        maska_statusi = \"Yuz topilmadi!\"\n",
    "        img = cv2.putText(img, maska_statusi, (10,30), cv2.FONT_HERSHEY_SIMPLEX, 1, (0,0,255), 2, cv2.LINE_AA)\n",
    "    cv2.imshow(\"Mask detection\",img) \n",
    "  \n",
    "    if cv2.waitKey(1) & 0xFF == ord(\"q\"):\n",
    "        break\n",
    "\n",
    "cap.release() \n",
    "cv2.destroyAllWindows()"
   ]
  },
  {
   "cell_type": "markdown",
   "id": "5445c566-4f2f-47d8-95b0-aa0d700c048d",
   "metadata": {},
   "source": [
    "# Cascade faylisiz yuzni topuvchi dastur"
   ]
  },
  {
   "cell_type": "code",
   "execution_count": 28,
   "id": "019c8f05-7add-4264-ad42-31d1dbb206d6",
   "metadata": {},
   "outputs": [
    {
     "ename": "error",
     "evalue": "OpenCV(4.7.0) :-1: error: (-5:Bad argument) in function 'detectMultiScale'\n> Overload resolution failed:\n>  - 'minSize' is an invalid keyword argument for HOGDescriptor.detectMultiScale()\n>  - 'minSize' is an invalid keyword argument for HOGDescriptor.detectMultiScale()\n",
     "output_type": "error",
     "traceback": [
      "\u001b[1;31m---------------------------------------------------------------------------\u001b[0m",
      "\u001b[1;31merror\u001b[0m                                     Traceback (most recent call last)",
      "Cell \u001b[1;32mIn[28], line 9\u001b[0m\n\u001b[0;32m      7\u001b[0m _, frame \u001b[38;5;241m=\u001b[39m cap\u001b[38;5;241m.\u001b[39mread()\n\u001b[0;32m      8\u001b[0m gray \u001b[38;5;241m=\u001b[39m cv2\u001b[38;5;241m.\u001b[39mcvtColor(frame, cv2\u001b[38;5;241m.\u001b[39mCOLOR_BGR2GRAY)\n\u001b[1;32m----> 9\u001b[0m (face, _) \u001b[38;5;241m=\u001b[39m \u001b[43mdetector\u001b[49m\u001b[38;5;241;43m.\u001b[39;49m\u001b[43mdetectMultiScale\u001b[49m\u001b[43m(\u001b[49m\u001b[43mgray\u001b[49m\u001b[43m,\u001b[49m\u001b[43m \u001b[49m\u001b[38;5;241;43m1.1\u001b[39;49m\u001b[43m,\u001b[49m\u001b[43m \u001b[49m\u001b[38;5;241;43m2\u001b[39;49m\u001b[43m,\u001b[49m\u001b[43m \u001b[49m\u001b[43mminSize\u001b[49m\u001b[38;5;241;43m=\u001b[39;49m\u001b[43m(\u001b[49m\u001b[38;5;241;43m5\u001b[39;49m\u001b[43m,\u001b[49m\u001b[43m \u001b[49m\u001b[38;5;241;43m5\u001b[39;49m\u001b[43m)\u001b[49m\u001b[43m,\u001b[49m\u001b[43m \u001b[49m\u001b[43mflags\u001b[49m\u001b[43m \u001b[49m\u001b[38;5;241;43m=\u001b[39;49m\u001b[43m \u001b[49m\u001b[43mcv2\u001b[49m\u001b[38;5;241;43m.\u001b[39;49m\u001b[43mCASCADE_SCALE_IMAGE\u001b[49m\u001b[43m)\u001b[49m\n\u001b[0;32m     10\u001b[0m \u001b[38;5;28;01mfor\u001b[39;00m (x,y,w,h) \u001b[38;5;129;01min\u001b[39;00m face:\n\u001b[0;32m     11\u001b[0m     cv2\u001b[38;5;241m.\u001b[39mrectangle(frame, (x,y), (x\u001b[38;5;241m+\u001b[39mw, y\u001b[38;5;241m+\u001b[39mh), (\u001b[38;5;241m0\u001b[39m,\u001b[38;5;241m255\u001b[39m,\u001b[38;5;241m0\u001b[39m), \u001b[38;5;241m2\u001b[39m)\n",
      "\u001b[1;31merror\u001b[0m: OpenCV(4.7.0) :-1: error: (-5:Bad argument) in function 'detectMultiScale'\n> Overload resolution failed:\n>  - 'minSize' is an invalid keyword argument for HOGDescriptor.detectMultiScale()\n>  - 'minSize' is an invalid keyword argument for HOGDescriptor.detectMultiScale()\n"
     ]
    }
   ],
   "source": [
    "import cv2\n",
    "detector = cv2.HOGDescriptor()\n",
    "detector.setSVMDetector(cv2.HOGDescriptor_getDefaultPeopleDetector())\n",
    "cap = cv2.VideoCapture(0)\n",
    "\n",
    "while True:\n",
    "    _, frame = cap.read()\n",
    "    gray = cv2.cvtColor(frame, cv2.COLOR_BGR2GRAY)\n",
    "    (face, _) = detector.detectMultiScale(gray, 1.1, 2, minSize=(5, 5), flags = cv2.CASCADE_SCALE_IMAGE)\n",
    "    for (x,y,w,h) in face:\n",
    "        cv2.rectangle(frame, (x,y), (x+w, y+h), (0,255,0), 2)\n",
    "        cv2.imshow(\"Yuz\", frame)\n",
    "        key = cv2.waitKey(1) & 0xFF\n",
    "        if key == \"q\":\n",
    "            break\n",
    "        \n",
    "cap.release()\n",
    "cv2.destroyAllWindows()"
   ]
  },
  {
   "cell_type": "code",
   "execution_count": null,
   "id": "08ab3e7c-ca4b-480c-8248-07979b517abc",
   "metadata": {},
   "outputs": [],
   "source": []
  }
 ],
 "metadata": {
  "kernelspec": {
   "display_name": "Python 3 (ipykernel)",
   "language": "python",
   "name": "python3"
  },
  "language_info": {
   "codemirror_mode": {
    "name": "ipython",
    "version": 3
   },
   "file_extension": ".py",
   "mimetype": "text/x-python",
   "name": "python",
   "nbconvert_exporter": "python",
   "pygments_lexer": "ipython3",
   "version": "3.9.8"
  }
 },
 "nbformat": 4,
 "nbformat_minor": 5
}
