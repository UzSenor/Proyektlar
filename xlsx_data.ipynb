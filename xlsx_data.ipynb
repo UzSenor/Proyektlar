{
 "cells": [
  {
   "cell_type": "code",
   "execution_count": 1,
   "id": "0f4bd8f3-31ca-40e9-8fde-985d161239ee",
   "metadata": {},
   "outputs": [],
   "source": [
    "import pandas as pd\n",
    "import numpy as np"
   ]
  },
  {
   "cell_type": "code",
   "execution_count": null,
   "id": "1573bbb9-55ae-44fa-966e-a95a4d72b8ee",
   "metadata": {},
   "outputs": [],
   "source": [
    "data1 = pd.read_excel(\"dataxlsx/Survey July-October 2020.xlsx\")\n",
    "data2 = [pojpk,.[otfre45r6t7y8u9i0o-p=]\\=-"
   ]
  }
 ],
 "metadata": {
  "kernelspec": {
   "display_name": "Python 3 (ipykernel)",
   "language": "python",
   "name": "python3"
  },
  "language_info": {
   "codemirror_mode": {
    "name": "ipython",
    "version": 3
   },
   "file_extension": ".py",
   "mimetype": "text/x-python",
   "name": "python",
   "nbconvert_exporter": "python",
   "pygments_lexer": "ipython3",
   "version": "3.9.8"
  }
 },
 "nbformat": 4,
 "nbformat_minor": 5
}
