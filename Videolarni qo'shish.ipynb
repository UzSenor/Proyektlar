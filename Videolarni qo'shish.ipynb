{
 "cells": [
  {
   "cell_type": "code",
   "execution_count": 2,
   "id": "09b89cc6",
   "metadata": {},
   "outputs": [],
   "source": [
    "import matplotlib.pyplot as plt\n",
    "import numpy as np\n",
    "import cv2"
   ]
  },
  {
   "cell_type": "markdown",
   "id": "93d675b8",
   "metadata": {},
   "source": [
    "# Ikkita videoni qo'shish"
   ]
  },
  {
   "cell_type": "code",
   "execution_count": 17,
   "id": "e84b2623",
   "metadata": {},
   "outputs": [],
   "source": [
    "video = cv2.VideoCapture(\"dragon.mp4\")\n",
    "video_1 = cv2.VideoCapture(\"vid.mp4\")\n",
    "while video.isOpened():\n",
    "    _, kadr = video.read()\n",
    "    _1, kadr_1 = video_1.read()\n",
    "    \n",
    "    kadr = cv2.resize(kadr,(640,480))\n",
    "    kadr_1 = cv2.resize(kadr_1,(640,480))\n",
    "    \n",
    "    range_1 = np.array([0,120,0])\n",
    "    range_2 = np.array([120,255,120])\n",
    "    maska = cv2.inRange(kadr, range_1,range_2)\n",
    "    kadr[maska!=0] = [0,0,0]\n",
    "    kadr_1[maska==0] = [0,0,0]\n",
    "    \n",
    "    nat = kadr + kadr_1\n",
    "    cv2.imshow(\"Natija\",nat)\n",
    "    if cv2.waitKey(40) & 0xFF == ord(\"q\"):\n",
    "        break\n",
    "video.release()\n",
    "video_1.release()\n",
    "cv2.destroyAllWindows()"
   ]
  },
  {
   "cell_type": "markdown",
   "id": "fc041722",
   "metadata": {},
   "source": [
    "# Video + Photo"
   ]
  },
  {
   "cell_type": "code",
   "execution_count": 27,
   "id": "dfac2242",
   "metadata": {},
   "outputs": [],
   "source": [
    "video = cv2.VideoCapture(\"nature.mp4\")\n",
    "rasm = cv2.imread(\"tog_1.jpg\")\n",
    "while video.isOpened():\n",
    "    _, kadr = video.read()\n",
    "    \n",
    "    kadr = cv2.resize(kadr,(640,480))\n",
    "    rasm = cv2.resize(rasm,(640,480))\n",
    "    \n",
    "    range_1 = np.array([0,150,0])\n",
    "    range_2 = np.array([150,255,150])\n",
    "    maska = cv2.inRange(kadr, range_1,range_2)\n",
    "    kadr[maska!=0] = [0,0,0]\n",
    "    rasm[maska==0] = [0,0,0]\n",
    "    \n",
    "    nat = kadr + rasm\n",
    "    cv2.imshow(\"Natija\",nat)\n",
    "    if cv2.waitKey(40) & 0xFF == ord(\"q\"):\n",
    "        break\n",
    "video.release()\n",
    "cv2.destroyAllWindows()"
   ]
  },
  {
   "cell_type": "code",
   "execution_count": 30,
   "id": "39792c00",
   "metadata": {},
   "outputs": [
    {
     "data": {
      "image/png": "[encoded data removed]",
      "text/plain": [
       "<Figure size 432x288 with 1 Axes>"
      ]
     },
     "metadata": {
      "needs_background": "light"
     },
     "output_type": "display_data"
    }
   ],
   "source": [
    "rasm = cv2.imread(\"Rasmlar/car_green_screen2.jpg\")\n",
    "rasm = cv2.cvtColor(rasm,cv2.COLOR_BGR2RGB)\n",
    "rasm_copy = np.copy(rasm)\n",
    "range_1 = np.array([0,100,0])\n",
    "range_2 = np.array([100,255,100])\n",
    "maska = cv2.inRange(rasm_copy,range_1,range_2)\n",
    "plt.imshow(maska, cmap=\"gray\")\n",
    "plt.show()"
   ]
  },
  {
   "cell_type": "code",
   "execution_count": null,
   "id": "fa0fd951",
   "metadata": {},
   "outputs": [],
   "source": []
  }
 ],
 "metadata": {
  "kernelspec": {
   "display_name": "Python 3 (ipykernel)",
   "language": "python",
   "name": "python3"
  },
  "language_info": {
   "codemirror_mode": {
    "name": "ipython",
    "version": 3
   },
   "file_extension": ".py",
   "mimetype": "text/x-python",
   "name": "python",
   "nbconvert_exporter": "python",
   "pygments_lexer": "ipython3",
   "version": "3.9.9"
  },
  "varInspector": {
   "cols": {
    "lenName": 16,
    "lenType": 16,
    "lenVar": 40
   },
   "kernels_config": {
    "python": {
     "delete_cmd_postfix": "",
     "delete_cmd_prefix": "del ",
     "library": "var_list.py",
     "varRefreshCmd": "print(var_dic_list())"
    },
    "r": {
     "delete_cmd_postfix": ") ",
     "delete_cmd_prefix": "rm(",
     "library": "var_list.r",
     "varRefreshCmd": "cat(var_dic_list()) "
    }
   },
   "types_to_exclude": [
    "module",
    "function",
    "builtin_function_or_method",
    "instance",
    "_Feature"
   ],
   "window_display": false
  }
 },
 "nbformat": 4,
 "nbformat_minor": 5
}
