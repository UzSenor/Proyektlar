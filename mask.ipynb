{
 "cells": [
  {
   "cell_type": "code",
   "execution_count": null,
   "id": "102f4c80-7df7-4636-af8e-44c9fd1cdba2",
   "metadata": {
    "id": "52bce7df-2a8e-45de-be25-cc040316318f"
   },
   "outputs": [],
   "source": [
    "import tensorflow as tf\n",
    "import cv2\n",
    "import numpy as np\n",
    "import matplotlib.pyplot as plt\n",
    "import os\n",
    "import glob\n",
    "import random\n",
    "from tensorflow.keras.models import Sequential\n",
    "from tensorflow.keras.layers import Dense,Flatten\n",
    "from tensorflow.keras.applications import DenseNet121\n",
    "from tensorflow.keras.applications.densenet import preprocess_input"
   ]
  },
  {
   "cell_type": "code",
   "execution_count": null,
   "id": "e6708375-f3e9-4e09-a59d-ededa84220b2",
   "metadata": {
    "id": "52bce7df-2a8e-45de-be25-cc040316318f"
   },
   "outputs": [],
   "source": [
    "dir_p = \"dataset/\"\n",
    "def dataset_yuklash(path):\n",
    "    rasmlar = []\n",
    "    holat = [\"with_mask\",\"without_mask\"]\n",
    "    for i in holat:\n",
    "        for rasm_path in glob.glob(os.path.join(path,i,'*')):\n",
    "            try:\n",
    "                maskali = cv2.imread(rasm_path)\n",
    "                maskali = cv2.cvtColor(maskali,cv2.COLOR_BGR2RGB)\n",
    "                rasmlar.append((maskali,i))\n",
    "            except:\n",
    "                pass\n",
    "    return rasmlar"
   ]
  },
  {
   "cell_type": "code",
   "execution_count": null,
   "id": "5ea22d30-7484-4306-bb23-cc5313287306",
   "metadata": {
    "id": "52bce7df-2a8e-45de-be25-cc040316318f"
   },
   "outputs": [],
   "source": [
    "maska = dataset_yuklash(dir_p)"
   ]
  },
  {
   "cell_type": "code",
   "execution_count": null,
   "id": "db274058-ad2b-45ca-b92e-5812715e6d96",
   "metadata": {
    "id": "52bce7df-2a8e-45de-be25-cc040316318f"
   },
   "outputs": [],
   "source": [
    "random.shuffle(maska)"
   ]
  },
  {
   "cell_type": "code",
   "execution_count": null,
   "id": "1d5c6e6e-d179-406f-8712-9ee89aa28298",
   "metadata": {},
   "outputs": [],
   "source": [
    "np.savetxt(\"mask.out\",maska)"
   ]
  },
  {
   "cell_type": "code",
   "execution_count": null,
   "id": "ac95ec24-56ff-4c88-a0e5-eb78372b1485",
   "metadata": {
    "id": "52bce7df-2a8e-45de-be25-cc040316318f"
   },
   "outputs": [],
   "source": [
    "y_size = [i[0].shape[0] for i in maska]\n",
    "x_size = [i[0].shape[1] for i in maska]"
   ]
  },
  {
   "cell_type": "code",
   "execution_count": null,
   "id": "833b196a-3941-41b5-b15e-57bc267142f6",
   "metadata": {},
   "outputs": [],
   "source": [
    "len(y_size)"
   ]
  },
  {
   "cell_type": "code",
   "execution_count": null,
   "id": "54dbbec6-4958-49b3-b25c-f0c7c7450059",
   "metadata": {
    "id": "52bce7df-2a8e-45de-be25-cc040316318f"
   },
   "outputs": [],
   "source": [
    "plt.plot(np.arange(3810),y_size,\"r*\")"
   ]
  },
  {
   "cell_type": "code",
   "execution_count": null,
   "id": "b2eb44a6-dde3-44f3-bd7b-c74fff4b4429",
   "metadata": {
    "id": "52bce7df-2a8e-45de-be25-cc040316318f"
   },
   "outputs": [],
   "source": [
    "plt.plot(np.arange(3810),x_size,\"g*\")"
   ]
  },
  {
   "cell_type": "code",
   "execution_count": null,
   "id": "7b633595-f8ee-41f0-a119-88ce5a22ce1f",
   "metadata": {
    "id": "52bce7df-2a8e-45de-be25-cc040316318f"
   },
   "outputs": [],
   "source": [
    "# Rasmlarni bir xil o'lchamga keltirish\n",
    "def ulcham(maska):\n",
    "    maska = cv2.resize(maska,(224,224))\n",
    "    return maska\n",
    "\n",
    "# Maska bor yoki yo'qligini binaryga o'tkazish\n",
    "def holat(holatlar):\n",
    "    if holatlar==\"with_mask\":\n",
    "        holatlar=1\n",
    "    else:\n",
    "        holatlar = 0\n",
    "    return holatlar\n",
    "\n",
    "# Tayyor rasmlar\n",
    "def tayyor_rasm(rasmlar):\n",
    "    tayyor_rasmlar = []\n",
    "    for i in rasmlar:\n",
    "        tayyor_rasmlar.append((ulcham(i[0]),holat(i[1])))\n",
    "    return tayyor_rasmlar"
   ]
  },
  {
   "cell_type": "code",
   "execution_count": null,
   "id": "353c1bf4-c4c8-4159-b04f-f60a264449b2",
   "metadata": {
    "id": "52bce7df-2a8e-45de-be25-cc040316318f"
   },
   "outputs": [],
   "source": [
    "tayyor_rasmlar = tayyor_rasm(maska)\n",
    "x_train = []\n",
    "y_train = []\n",
    "x_test = []\n",
    "y_test = []\n",
    "for i in range(len(tayyor_rasmlar)):\n",
    "    if i < int(len(tayyor_rasmlar)*0.8):\n",
    "        x_train.append(tayyor_rasmlar[i][0])        \n",
    "        y_train.append(tayyor_rasmlar[i][1])\n",
    "    else:\n",
    "        x_test.append(tayyor_rasmlar[i][0])        \n",
    "        y_test.append(tayyor_rasmlar[i][1])"
   ]
  },
  {
   "cell_type": "markdown",
   "id": "6c50c24c-4d65-4fe6-8ae5-827a8b351958",
   "metadata": {
    "id": "52bce7df-2a8e-45de-be25-cc040316318f"
   },
   "source": [
    "# CNN"
   ]
  },
  {
   "cell_type": "code",
   "execution_count": null,
   "id": "713e5c4c-388a-4ac8-984f-c47c11a5a9ff",
   "metadata": {
    "id": "52bce7df-2a8e-45de-be25-cc040316318f"
   },
   "outputs": [],
   "source": [
    "x_train = np.array(x_train)\n",
    "x_test = np.array(x_test)\n",
    "y_train = np.array(y_train)\n",
    "y_test = np.array(y_test)\n",
    "\n",
    "x_train = x_train/255.0\n",
    "x_test = x_test)\n",
    "\n",
    "bm = DenseNet121(include_top=False,input_shape=(224,224,3))\n",
    "\n",
    "bm.trainable = False"
   ]
  },
  {
   "cell_type": "code",
   "execution_count": null,
   "id": "05dd2763-095e-4324-b336-996f06170c76",
   "metadata": {
    "id": "52bce7df-2a8e-45de-be25-cc040316318f"
   },
   "outputs": [],
   "source": [
    "model = Sequential([\n",
    "    bm,\n",
    "    Flatten(),\n",
    "    Dense(1000,activation=\"relu\"),\n",
    "    Dense(100,activation=\"relu\"),\n",
    "    Dense(1,activation=\"sigmoid\")\n",
    "])"
   ]
  },
  {
   "cell_type": "code",
   "execution_count": null,
   "id": "2859c1d5-92d3-402a-9fa9-af096b65c6b3",
   "metadata": {
    "id": "52bce7df-2a8e-45de-be25-cc040316318f"
   },
   "outputs": [],
   "source": [
    "model.compile(optimizer=\"Adam\",loss=tf.keras.losses.BinaryCrossentropy(),metrics=[\"accuracy\"])\n",
    "model.fit(x_train,y_train,batch_size=4,epochs=5)"
   ]
  },
  {
   "cell_type": "code",
   "execution_count": 2,
   "id": "64044535-b224-42fc-8089-6e5b757fb70a",
   "metadata": {
    "id": "52bce7df-2a8e-45de-be25-cc040316318f"
   },
   "outputs": [
    {
     "ename": "ValueError",
     "evalue": "x and y must have same first dimension, but have shapes (1839,) and (3810,)",
     "output_type": "error",
     "traceback": [
      "\u001b[1;31m---------------------------------------------------------------------------\u001b[0m",
      "\u001b[1;31mValueError\u001b[0m                                Traceback (most recent call last)",
      "Input \u001b[1;32mIn [2]\u001b[0m, in \u001b[0;36m<module>\u001b[1;34m\u001b[0m\n\u001b[0;32m     30\u001b[0m y_size \u001b[38;5;241m=\u001b[39m [i[\u001b[38;5;241m0\u001b[39m]\u001b[38;5;241m.\u001b[39mshape[\u001b[38;5;241m0\u001b[39m] \u001b[38;5;28;01mfor\u001b[39;00m i \u001b[38;5;129;01min\u001b[39;00m maska]\n\u001b[0;32m     31\u001b[0m x_size \u001b[38;5;241m=\u001b[39m [i[\u001b[38;5;241m0\u001b[39m]\u001b[38;5;241m.\u001b[39mshape[\u001b[38;5;241m1\u001b[39m] \u001b[38;5;28;01mfor\u001b[39;00m i \u001b[38;5;129;01min\u001b[39;00m maska]\n\u001b[1;32m---> 32\u001b[0m \u001b[43mplt\u001b[49m\u001b[38;5;241;43m.\u001b[39;49m\u001b[43mplot\u001b[49m\u001b[43m(\u001b[49m\u001b[43mnp\u001b[49m\u001b[38;5;241;43m.\u001b[39;49m\u001b[43marange\u001b[49m\u001b[43m(\u001b[49m\u001b[38;5;241;43m1839\u001b[39;49m\u001b[43m)\u001b[49m\u001b[43m,\u001b[49m\u001b[43my_size\u001b[49m\u001b[43m,\u001b[49m\u001b[38;5;124;43m\"\u001b[39;49m\u001b[38;5;124;43mr*\u001b[39;49m\u001b[38;5;124;43m\"\u001b[39;49m\u001b[43m)\u001b[49m\n\u001b[0;32m     33\u001b[0m plt\u001b[38;5;241m.\u001b[39mplot(np\u001b[38;5;241m.\u001b[39marange(\u001b[38;5;241m1839\u001b[39m),x_size,\u001b[38;5;124m\"\u001b[39m\u001b[38;5;124mg*\u001b[39m\u001b[38;5;124m\"\u001b[39m)\n\u001b[0;32m     35\u001b[0m \u001b[38;5;66;03m# Rasmlarni bir xil o'lchamga keltirish\u001b[39;00m\n",
      "File \u001b[1;32m~\\AppData\\Local\\Programs\\Python\\Python39\\lib\\site-packages\\matplotlib\\pyplot.py:2740\u001b[0m, in \u001b[0;36mplot\u001b[1;34m(scalex, scaley, data, *args, **kwargs)\u001b[0m\n\u001b[0;32m   2738\u001b[0m \u001b[38;5;129m@_copy_docstring_and_deprecators\u001b[39m(Axes\u001b[38;5;241m.\u001b[39mplot)\n\u001b[0;32m   2739\u001b[0m \u001b[38;5;28;01mdef\u001b[39;00m \u001b[38;5;21mplot\u001b[39m(\u001b[38;5;241m*\u001b[39margs, scalex\u001b[38;5;241m=\u001b[39m\u001b[38;5;28;01mTrue\u001b[39;00m, scaley\u001b[38;5;241m=\u001b[39m\u001b[38;5;28;01mTrue\u001b[39;00m, data\u001b[38;5;241m=\u001b[39m\u001b[38;5;28;01mNone\u001b[39;00m, \u001b[38;5;241m*\u001b[39m\u001b[38;5;241m*\u001b[39mkwargs):\n\u001b[1;32m-> 2740\u001b[0m     \u001b[38;5;28;01mreturn\u001b[39;00m gca()\u001b[38;5;241m.\u001b[39mplot(\n\u001b[0;32m   2741\u001b[0m         \u001b[38;5;241m*\u001b[39margs, scalex\u001b[38;5;241m=\u001b[39mscalex, scaley\u001b[38;5;241m=\u001b[39mscaley,\n\u001b[0;32m   2742\u001b[0m         \u001b[38;5;241m*\u001b[39m\u001b[38;5;241m*\u001b[39m({\u001b[38;5;124m\"\u001b[39m\u001b[38;5;124mdata\u001b[39m\u001b[38;5;124m\"\u001b[39m: data} \u001b[38;5;28;01mif\u001b[39;00m data \u001b[38;5;129;01mis\u001b[39;00m \u001b[38;5;129;01mnot\u001b[39;00m \u001b[38;5;28;01mNone\u001b[39;00m \u001b[38;5;28;01melse\u001b[39;00m {}), \u001b[38;5;241m*\u001b[39m\u001b[38;5;241m*\u001b[39mkwargs)\n",
      "File \u001b[1;32m~\\AppData\\Local\\Programs\\Python\\Python39\\lib\\site-packages\\matplotlib\\axes\\_axes.py:1662\u001b[0m, in \u001b[0;36mAxes.plot\u001b[1;34m(self, scalex, scaley, data, *args, **kwargs)\u001b[0m\n\u001b[0;32m   1419\u001b[0m \u001b[38;5;124;03m\"\"\"\u001b[39;00m\n\u001b[0;32m   1420\u001b[0m \u001b[38;5;124;03mPlot y versus x as lines and/or markers.\u001b[39;00m\n\u001b[0;32m   1421\u001b[0m \n\u001b[1;32m   (...)\u001b[0m\n\u001b[0;32m   1659\u001b[0m \u001b[38;5;124;03m(``'green'``) or hex strings (``'#008000'``).\u001b[39;00m\n\u001b[0;32m   1660\u001b[0m \u001b[38;5;124;03m\"\"\"\u001b[39;00m\n\u001b[0;32m   1661\u001b[0m kwargs \u001b[38;5;241m=\u001b[39m cbook\u001b[38;5;241m.\u001b[39mnormalize_kwargs(kwargs, mlines\u001b[38;5;241m.\u001b[39mLine2D)\n\u001b[1;32m-> 1662\u001b[0m lines \u001b[38;5;241m=\u001b[39m [\u001b[38;5;241m*\u001b[39m\u001b[38;5;28mself\u001b[39m\u001b[38;5;241m.\u001b[39m_get_lines(\u001b[38;5;241m*\u001b[39margs, data\u001b[38;5;241m=\u001b[39mdata, \u001b[38;5;241m*\u001b[39m\u001b[38;5;241m*\u001b[39mkwargs)]\n\u001b[0;32m   1663\u001b[0m \u001b[38;5;28;01mfor\u001b[39;00m line \u001b[38;5;129;01min\u001b[39;00m lines:\n\u001b[0;32m   1664\u001b[0m     \u001b[38;5;28mself\u001b[39m\u001b[38;5;241m.\u001b[39madd_line(line)\n",
      "File \u001b[1;32m~\\AppData\\Local\\Programs\\Python\\Python39\\lib\\site-packages\\matplotlib\\axes\\_base.py:311\u001b[0m, in \u001b[0;36m_process_plot_var_args.__call__\u001b[1;34m(self, data, *args, **kwargs)\u001b[0m\n\u001b[0;32m    309\u001b[0m     this \u001b[38;5;241m+\u001b[39m\u001b[38;5;241m=\u001b[39m args[\u001b[38;5;241m0\u001b[39m],\n\u001b[0;32m    310\u001b[0m     args \u001b[38;5;241m=\u001b[39m args[\u001b[38;5;241m1\u001b[39m:]\n\u001b[1;32m--> 311\u001b[0m \u001b[38;5;28;01myield from\u001b[39;00m \u001b[38;5;28;43mself\u001b[39;49m\u001b[38;5;241;43m.\u001b[39;49m\u001b[43m_plot_args\u001b[49m\u001b[43m(\u001b[49m\n\u001b[0;32m    312\u001b[0m \u001b[43m    \u001b[49m\u001b[43mthis\u001b[49m\u001b[43m,\u001b[49m\u001b[43m \u001b[49m\u001b[43mkwargs\u001b[49m\u001b[43m,\u001b[49m\u001b[43m \u001b[49m\u001b[43mambiguous_fmt_datakey\u001b[49m\u001b[38;5;241;43m=\u001b[39;49m\u001b[43mambiguous_fmt_datakey\u001b[49m\u001b[43m)\u001b[49m\n",
      "File \u001b[1;32m~\\AppData\\Local\\Programs\\Python\\Python39\\lib\\site-packages\\matplotlib\\axes\\_base.py:504\u001b[0m, in \u001b[0;36m_process_plot_var_args._plot_args\u001b[1;34m(self, tup, kwargs, return_kwargs, ambiguous_fmt_datakey)\u001b[0m\n\u001b[0;32m    501\u001b[0m     \u001b[38;5;28mself\u001b[39m\u001b[38;5;241m.\u001b[39maxes\u001b[38;5;241m.\u001b[39myaxis\u001b[38;5;241m.\u001b[39mupdate_units(y)\n\u001b[0;32m    503\u001b[0m \u001b[38;5;28;01mif\u001b[39;00m x\u001b[38;5;241m.\u001b[39mshape[\u001b[38;5;241m0\u001b[39m] \u001b[38;5;241m!=\u001b[39m y\u001b[38;5;241m.\u001b[39mshape[\u001b[38;5;241m0\u001b[39m]:\n\u001b[1;32m--> 504\u001b[0m     \u001b[38;5;28;01mraise\u001b[39;00m \u001b[38;5;167;01mValueError\u001b[39;00m(\u001b[38;5;124mf\u001b[39m\u001b[38;5;124m\"\u001b[39m\u001b[38;5;124mx and y must have same first dimension, but \u001b[39m\u001b[38;5;124m\"\u001b[39m\n\u001b[0;32m    505\u001b[0m                      \u001b[38;5;124mf\u001b[39m\u001b[38;5;124m\"\u001b[39m\u001b[38;5;124mhave shapes \u001b[39m\u001b[38;5;132;01m{\u001b[39;00mx\u001b[38;5;241m.\u001b[39mshape\u001b[38;5;132;01m}\u001b[39;00m\u001b[38;5;124m and \u001b[39m\u001b[38;5;132;01m{\u001b[39;00my\u001b[38;5;241m.\u001b[39mshape\u001b[38;5;132;01m}\u001b[39;00m\u001b[38;5;124m\"\u001b[39m)\n\u001b[0;32m    506\u001b[0m \u001b[38;5;28;01mif\u001b[39;00m x\u001b[38;5;241m.\u001b[39mndim \u001b[38;5;241m>\u001b[39m \u001b[38;5;241m2\u001b[39m \u001b[38;5;129;01mor\u001b[39;00m y\u001b[38;5;241m.\u001b[39mndim \u001b[38;5;241m>\u001b[39m \u001b[38;5;241m2\u001b[39m:\n\u001b[0;32m    507\u001b[0m     \u001b[38;5;28;01mraise\u001b[39;00m \u001b[38;5;167;01mValueError\u001b[39;00m(\u001b[38;5;124mf\u001b[39m\u001b[38;5;124m\"\u001b[39m\u001b[38;5;124mx and y can be no greater than 2D, but have \u001b[39m\u001b[38;5;124m\"\u001b[39m\n\u001b[0;32m    508\u001b[0m                      \u001b[38;5;124mf\u001b[39m\u001b[38;5;124m\"\u001b[39m\u001b[38;5;124mshapes \u001b[39m\u001b[38;5;132;01m{\u001b[39;00mx\u001b[38;5;241m.\u001b[39mshape\u001b[38;5;132;01m}\u001b[39;00m\u001b[38;5;124m and \u001b[39m\u001b[38;5;132;01m{\u001b[39;00my\u001b[38;5;241m.\u001b[39mshape\u001b[38;5;132;01m}\u001b[39;00m\u001b[38;5;124m\"\u001b[39m)\n",
      "\u001b[1;31mValueError\u001b[0m: x and y must have same first dimension, but have shapes (1839,) and (3810,)"
     ]
    },
    {
     "data": {
      "image/png": "[encoded data removed]",
      "text/plain": [
       "<Figure size 432x288 with 1 Axes>"
      ]
     },
     "metadata": {
      "needs_background": "light"
     },
     "output_type": "display_data"
    }
   ],
   "source": [
    "model.evaluate(x_test,y_test)"
   ]
  },
  {
   "cell_type": "code",
   "execution_count": 1,
   "id": "38d13e15",
   "metadata": {},
   "outputs": [
    {
     "data": {
      "text/plain": [
       "[PhysicalDevice(name='/physical_device:CPU:0', device_type='CPU')]"
      ]
     },
     "execution_count": 1,
     "metadata": {},
     "output_type": "execute_result"
    }
   ],
   "source": [
    "import tensorflow as tf\n",
    "tf.config.list_physical_devices()"
   ]
  },
  {
   "cell_type": "code",
   "execution_count": null,
   "id": "ZER7DsdyBWBx",
   "metadata": {
    "id": "ZER7DsdyBWBx"
   },
   "outputs": [],
   "source": []
  }
 ],
 "metadata": {
  "accelerator": "GPU",
  "colab": {
   "private_outputs": true,
   "provenance": [],
   "toc_visible": true
  },
  "gpuClass": "standard",
  "kernelspec": {
   "display_name": "Python 3 (ipykernel)",
   "language": "python",
   "name": "python3"
  },
  "language_info": {
   "codemirror_mode": {
    "name": "ipython",
    "version": 3
   },
   "file_extension": ".py",
   "mimetype": "text/x-python",
   "name": "python",
   "nbconvert_exporter": "python",
   "pygments_lexer": "ipython3",
   "version": "3.9.8"
  },
  "vscode": {
   "interpreter": {
    "hash": "60bfa049ae2711d9f03398a45f14685ce47d596e648ff9478e757ce9c0887dda"
   }
  }
 },
 "nbformat": 4,
 "nbformat_minor": 5
}
