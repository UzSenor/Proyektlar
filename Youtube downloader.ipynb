{
 "cells": [
  {
   "cell_type": "code",
   "execution_count": 4,
   "id": "55b483b2",
   "metadata": {},
   "outputs": [
    {
     "name": "stdout",
     "output_type": "stream",
     "text": [
      "Enter the link of YouTube video you want to download:  https://youtu.be/czYQiMDgrmQ\n",
      "Title:  FREE HD Green Screen JUNGLE WATERFALL - 3\n",
      "Number of views:  81804\n",
      "Length of video:  74\n",
      "Rating of video:  None\n",
      "Downloading...\n",
      "Download completed!!\n"
     ]
    }
   ],
   "source": [
    "from pytube import YouTube\n",
    "\n",
    "link = input(\"Link:  \")\n",
    "yt = YouTube(link)\n",
    "\n",
    "print(\"Nomi: \",yt.title)\n",
    "print(\"Ko'rilgan: \",yt.views)\n",
    "print(\"Video uzunligi: \",yt.length)\n",
    "print(\"Reyting: \",yt.rating)\n",
    "\n",
    "ys = yt.streams.get_highest_resolution()\n",
    "\n",
    "print(\"Ko'chirilmoqda...\")\n",
    "ys.download()\n",
    "print(\"Tayyor!!\")"
   ]
  },
  {
   "cell_type": "code",
   "execution_count": null,
   "id": "48d1f497",
   "metadata": {},
   "outputs": [],
   "source": []
  }
 ],
 "metadata": {
  "kernelspec": {
   "display_name": "Python 3 (ipykernel)",
   "language": "python",
   "name": "python3"
  },
  "language_info": {
   "codemirror_mode": {
    "name": "ipython",
    "version": 3
   },
   "file_extension": ".py",
   "mimetype": "text/x-python",
   "name": "python",
   "nbconvert_exporter": "python",
   "pygments_lexer": "ipython3",
   "version": "3.9.9"
  },
  "varInspector": {
   "cols": {
    "lenName": 16,
    "lenType": 16,
    "lenVar": 40
   },
   "kernels_config": {
    "python": {
     "delete_cmd_postfix": "",
     "delete_cmd_prefix": "del ",
     "library": "var_list.py",
     "varRefreshCmd": "print(var_dic_list())"
    },
    "r": {
     "delete_cmd_postfix": ") ",
     "delete_cmd_prefix": "rm(",
     "library": "var_list.r",
     "varRefreshCmd": "cat(var_dic_list()) "
    }
   },
   "types_to_exclude": [
    "module",
    "function",
    "builtin_function_or_method",
    "instance",
    "_Feature"
   ],
   "window_display": false
  }
 },
 "nbformat": 4,
 "nbformat_minor": 5
}
