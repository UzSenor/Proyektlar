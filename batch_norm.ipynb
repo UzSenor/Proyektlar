{
 "cells": [
  {
   "cell_type": "code",
   "execution_count": 1,
   "id": "98f26100-1c30-456f-a13d-40c77c71319c",
   "metadata": {},
   "outputs": [],
   "source": [
    "import numpy as np\n",
    "from keras.preprocessing.image import ImageDataGenerator\n",
    "from keras.models import Sequential\n",
    "from keras.layers import Conv2D, MaxPool2D, Dense, Flatten, BatchNormalization\n",
    "import tensorflow as tf\n",
    "from tensorflow.keras.utils import get_file, image_dataset_from_directory"
   ]
  },
  {
   "cell_type": "code",
   "execution_count": 2,
   "id": "308dbff3-3a74-475d-bd6b-0f6bbcbb80cc",
   "metadata": {},
   "outputs": [],
   "source": [
    "img_gen = ImageDataGenerator(rescale=1./255,\n",
    "                            zoom_range=0.2,\n",
    "                            rotation_range=0.2,\n",
    "                            height_shift_range=0.2,\n",
    "                            width_shift_range=0.2,\n",
    "                            fill_mode=\"nearest\",\n",
    "                            horizontal_flip=True,\n",
    "                            vertical_flip=True)"
   ]
  },
  {
   "cell_type": "code",
   "execution_count": 5,
   "id": "3ed6680b-5560-47b1-94d6-4e8700dc05da",
   "metadata": {},
   "outputs": [
    {
     "name": "stdout",
     "output_type": "stream",
     "text": [
      "Downloading data from https://storage.googleapis.com/download.tensorflow.org/example_images/flower_photos.tgz\n",
      "228813984/228813984 [==============================] - 490s 2us/step\n"
     ]
    }
   ],
   "source": [
    "data_url = \"https://storage.googleapis.com/download.tensorflow.org/example_images/flower_photos.tgz\"\n",
    "data = get_file(origin = data_url, fname=\"gul\",untar=True,cache_dir=\"data/\")"
   ]
  },
  {
   "cell_type": "code",
   "execution_count": 3,
   "id": "51f4e7ed-9b9f-4e88-b344-2921b6231047",
   "metadata": {},
   "outputs": [],
   "source": [
    "data = \"data/datasets/flower_photos/\""
   ]
  },
  {
   "cell_type": "code",
   "execution_count": 15,
   "id": "d2710a14-95c6-43fe-b43a-06aab78fa9fb",
   "metadata": {},
   "outputs": [
    {
     "name": "stdout",
     "output_type": "stream",
     "text": [
      "Found 3670 images belonging to 5 classes.\n"
     ]
    }
   ],
   "source": [
    "dataset_gul = img_gen.flow_from_directory(data,target_size=(224,224),batch_size=8,class_mode=\"categorical\")"
   ]
  },
  {
   "cell_type": "code",
   "execution_count": 16,
   "id": "d02ebaa8-eda5-46af-84c0-69d15222f22e",
   "metadata": {},
   "outputs": [
    {
     "data": {
      "text/plain": [
       "{'daisy': 0, 'dandelion': 1, 'roses': 2, 'sunflowers': 3, 'tulips': 4}"
      ]
     },
     "execution_count": 16,
     "metadata": {},
     "output_type": "execute_result"
    }
   ],
   "source": [
    "dataset_gul.class_indices"
   ]
  },
  {
   "cell_type": "markdown",
   "id": "7d23b1ad-e2f5-4d0f-aacf-e149ba673e4d",
   "metadata": {},
   "source": [
    "## Oddiy model"
   ]
  },
  {
   "cell_type": "code",
   "execution_count": 17,
   "id": "730c2d59-3470-4872-8d39-afb39fc042d8",
   "metadata": {},
   "outputs": [],
   "source": [
    "model = Sequential([\n",
    "    Conv2D(10,(3,3),padding=\"same\",input_shape=(224,224,3),activation=\"relu\"),\n",
    "    MaxPool2D((2,2)),\n",
    "    Conv2D(20,(3,3),padding=\"same\",activation=\"relu\"),\n",
    "    MaxPool2D((2,2)),\n",
    "    Conv2D(30,(3,3),padding=\"same\",activation=\"relu\"),\n",
    "    MaxPool2D((2,2)),\n",
    "    Conv2D(40,(3,3),padding=\"same\",activation=\"relu\"),\n",
    "    MaxPool2D((2,2)),\n",
    "    Conv2D(50,(3,3),padding=\"same\",activation=\"relu\"),\n",
    "    MaxPool2D((2,2)),\n",
    "    Flatten(),\n",
    "    Dense(240,activation=\"relu\"),\n",
    "    Dense(120,activation=\"relu\"),\n",
    "    Dense(60,activation=\"relu\"),\n",
    "    Dense(5,activation=\"softmax\")\n",
    "])"
   ]
  },
  {
   "cell_type": "code",
   "execution_count": 18,
   "id": "a032af7c-36d8-4320-82ab-c712ff2adbbf",
   "metadata": {},
   "outputs": [],
   "source": [
    "model.compile(optimizer=\"adam\",loss=\"categorical_crossentropy\",metrics=[\"accuracy\"])"
   ]
  },
  {
   "cell_type": "code",
   "execution_count": 20,
   "id": "ce77de7f-a40c-478b-98f2-a0bb19ae7508",
   "metadata": {},
   "outputs": [
    {
     "name": "stdout",
     "output_type": "stream",
     "text": [
      "Epoch 1/20\n",
      "459/459 [==============================] - 204s 444ms/step - loss: 1.3092 - accuracy: 0.4343\n",
      "Epoch 2/20\n",
      "459/459 [==============================] - 220s 480ms/step - loss: 1.1176 - accuracy: 0.5379\n",
      "Epoch 3/20\n",
      "459/459 [==============================] - 236s 515ms/step - loss: 1.0408 - accuracy: 0.5787\n",
      "Epoch 4/20\n",
      "459/459 [==============================] - 232s 505ms/step - loss: 0.9800 - accuracy: 0.6150\n",
      "Epoch 5/20\n",
      "459/459 [==============================] - 261s 569ms/step - loss: 0.9254 - accuracy: 0.6381\n",
      "Epoch 6/20\n",
      "459/459 [==============================] - 256s 558ms/step - loss: 0.8999 - accuracy: 0.6529\n",
      "Epoch 7/20\n",
      "459/459 [==============================] - 251s 545ms/step - loss: 0.8521 - accuracy: 0.6714\n",
      "Epoch 8/20\n",
      "459/459 [==============================] - 243s 528ms/step - loss: 0.8244 - accuracy: 0.6842\n",
      "Epoch 9/20\n",
      "459/459 [==============================] - 239s 520ms/step - loss: 0.8030 - accuracy: 0.6956\n",
      "Epoch 10/20\n",
      "459/459 [==============================] - 240s 522ms/step - loss: 0.8037 - accuracy: 0.6954\n",
      "Epoch 11/20\n",
      "459/459 [==============================] - 221s 480ms/step - loss: 0.7772 - accuracy: 0.6965\n",
      "Epoch 12/20\n",
      "459/459 [==============================] - 209s 454ms/step - loss: 0.7483 - accuracy: 0.7038\n",
      "Epoch 13/20\n",
      "459/459 [==============================] - 208s 452ms/step - loss: 0.7534 - accuracy: 0.7076\n",
      "Epoch 14/20\n",
      "459/459 [==============================] - 211s 459ms/step - loss: 0.7273 - accuracy: 0.7213\n",
      "Epoch 15/20\n",
      "459/459 [==============================] - 227s 495ms/step - loss: 0.7234 - accuracy: 0.7136\n",
      "Epoch 16/20\n",
      "459/459 [==============================] - 219s 476ms/step - loss: 0.7082 - accuracy: 0.7401\n",
      "Epoch 17/20\n",
      "459/459 [==============================] - 217s 472ms/step - loss: 0.7101 - accuracy: 0.7229\n",
      "Epoch 18/20\n",
      "459/459 [==============================] - 216s 471ms/step - loss: 0.6778 - accuracy: 0.7384\n",
      "Epoch 19/20\n",
      "459/459 [==============================] - 238s 518ms/step - loss: 0.6749 - accuracy: 0.7485\n",
      "Epoch 20/20\n",
      "459/459 [==============================] - 221s 482ms/step - loss: 0.6621 - accuracy: 0.7512\n",
      "CPU times: total: 4h 6min 50s\n",
      "Wall time: 1h 16min 9s\n"
     ]
    },
    {
     "data": {
      "text/plain": [
       "<keras.callbacks.History at 0x1e4b3711bb0>"
      ]
     },
     "execution_count": 20,
     "metadata": {},
     "output_type": "execute_result"
    }
   ],
   "source": [
    "%%time\n",
    "model.fit(dataset_gul,epochs=20)"
   ]
  },
  {
   "cell_type": "markdown",
   "id": "b1914495-8862-4743-9d8f-c1c027d3b6d6",
   "metadata": {},
   "source": [
    "## CNN BatchNormalization"
   ]
  },
  {
   "cell_type": "code",
   "execution_count": 21,
   "id": "ba9f633b-db2d-4184-bd09-1527f1b0a923",
   "metadata": {},
   "outputs": [],
   "source": [
    "model_batch = Sequential([\n",
    "    Conv2D(10,(3,3),padding=\"same\",input_shape=(224,224,3),activation=\"relu\"),\n",
    "    BatchNormalization(),\n",
    "    MaxPool2D((2,2)),\n",
    "    Conv2D(20,(3,3),padding=\"same\",activation=\"relu\"),\n",
    "    BatchNormalization(),\n",
    "    MaxPool2D((2,2)),\n",
    "    Conv2D(30,(3,3),padding=\"same\",activation=\"relu\"),\n",
    "    BatchNormalization(),\n",
    "    MaxPool2D((2,2)),\n",
    "    Conv2D(40,(3,3),padding=\"same\",activation=\"relu\"),\n",
    "    BatchNormalization(),\n",
    "    MaxPool2D((2,2)),\n",
    "    Conv2D(50,(3,3),padding=\"same\",activation=\"relu\"),\n",
    "    BatchNormalization(),\n",
    "    MaxPool2D((2,2)),\n",
    "    Flatten(),\n",
    "    Dense(240,activation=\"relu\"),\n",
    "    Dense(120,activation=\"relu\"),\n",
    "    Dense(60,activation=\"relu\"),\n",
    "    Dense(5,activation=\"softmax\")\n",
    "])"
   ]
  },
  {
   "cell_type": "code",
   "execution_count": 22,
   "id": "290999d6-79c4-4f80-be07-b0a67f153cec",
   "metadata": {},
   "outputs": [],
   "source": [
    "model_batch.compile(optimizer=\"adam\",loss=\"categorical_crossentropy\",metrics=[\"accuracy\"])"
   ]
  },
  {
   "cell_type": "code",
   "execution_count": 23,
   "id": "c6d7344a-c446-4136-9e6b-97e6bca2380e",
   "metadata": {},
   "outputs": [
    {
     "name": "stdout",
     "output_type": "stream",
     "text": [
      "Epoch 1/20\n",
      "459/459 [==============================] - 417s 899ms/step - loss: 1.3553 - accuracy: 0.4534\n",
      "Epoch 2/20\n",
      "459/459 [==============================] - 431s 937ms/step - loss: 1.1318 - accuracy: 0.5417\n",
      "Epoch 3/20\n",
      "459/459 [==============================] - 342s 744ms/step - loss: 1.0614 - accuracy: 0.5782\n",
      "Epoch 4/20\n",
      "459/459 [==============================] - 295s 643ms/step - loss: 0.9905 - accuracy: 0.6139\n",
      "Epoch 5/20\n",
      "459/459 [==============================] - 277s 602ms/step - loss: 0.9426 - accuracy: 0.6253\n",
      "Epoch 6/20\n",
      "459/459 [==============================] - 269s 585ms/step - loss: 0.9093 - accuracy: 0.6460\n",
      "Epoch 7/20\n",
      "459/459 [==============================] - 268s 584ms/step - loss: 0.8734 - accuracy: 0.6583\n",
      "Epoch 8/20\n",
      "459/459 [==============================] - 268s 584ms/step - loss: 0.8403 - accuracy: 0.6812\n",
      "Epoch 9/20\n",
      "459/459 [==============================] - 269s 586ms/step - loss: 0.8209 - accuracy: 0.6826\n",
      "Epoch 10/20\n",
      "459/459 [==============================] - 270s 587ms/step - loss: 0.7929 - accuracy: 0.6902\n",
      "Epoch 11/20\n",
      "459/459 [==============================] - 268s 585ms/step - loss: 0.7681 - accuracy: 0.7044\n",
      "Epoch 12/20\n",
      "459/459 [==============================] - 270s 587ms/step - loss: 0.7451 - accuracy: 0.7153\n",
      "Epoch 13/20\n",
      "459/459 [==============================] - 269s 585ms/step - loss: 0.7357 - accuracy: 0.7161\n",
      "Epoch 14/20\n",
      "459/459 [==============================] - 274s 596ms/step - loss: 0.7173 - accuracy: 0.7245\n",
      "Epoch 15/20\n",
      "459/459 [==============================] - 268s 584ms/step - loss: 0.6983 - accuracy: 0.7357\n",
      "Epoch 16/20\n",
      "459/459 [==============================] - 269s 586ms/step - loss: 0.6900 - accuracy: 0.7362\n",
      "Epoch 17/20\n",
      "459/459 [==============================] - 268s 583ms/step - loss: 0.6627 - accuracy: 0.7463\n",
      "Epoch 18/20\n",
      "459/459 [==============================] - 270s 587ms/step - loss: 0.6599 - accuracy: 0.7477\n",
      "Epoch 19/20\n",
      "459/459 [==============================] - 268s 584ms/step - loss: 0.6503 - accuracy: 0.7523\n",
      "Epoch 20/20\n",
      "459/459 [==============================] - 267s 582ms/step - loss: 0.6386 - accuracy: 0.7597\n",
      "CPU times: total: 5h 17min 57s\n",
      "Wall time: 1h 37min 8s\n"
     ]
    },
    {
     "data": {
      "text/plain": [
       "<keras.callbacks.History at 0x1e4a6bf4df0>"
      ]
     },
     "execution_count": 23,
     "metadata": {},
     "output_type": "execute_result"
    }
   ],
   "source": [
    "%%time\n",
    "model_batch.fit(dataset_gul,epochs=20)"
   ]
  },
  {
   "cell_type": "markdown",
   "id": "a301ed9f-c567-48ff-b19a-e0ab9b704690",
   "metadata": {},
   "source": [
    "## Full BatchNormalization"
   ]
  },
  {
   "cell_type": "code",
   "execution_count": 24,
   "id": "d611fe26-1c9b-4a7c-bb56-26eae852cd80",
   "metadata": {},
   "outputs": [],
   "source": [
    "model_batch_norm = Sequential([\n",
    "    Conv2D(10,(3,3),padding=\"same\",input_shape=(224,224,3),activation=\"relu\"),\n",
    "    BatchNormalization(),\n",
    "    MaxPool2D((2,2)),\n",
    "    Conv2D(20,(3,3),padding=\"same\",activation=\"relu\"),\n",
    "    BatchNormalization(),\n",
    "    MaxPool2D((2,2)),\n",
    "    Conv2D(30,(3,3),padding=\"same\",activation=\"relu\"),\n",
    "    BatchNormalization(),\n",
    "    MaxPool2D((2,2)),\n",
    "    Conv2D(40,(3,3),padding=\"same\",activation=\"relu\"),\n",
    "    BatchNormalization(),\n",
    "    MaxPool2D((2,2)),\n",
    "    Conv2D(50,(3,3),padding=\"same\",activation=\"relu\"),\n",
    "    BatchNormalization(),\n",
    "    MaxPool2D((2,2)),\n",
    "    Flatten(),\n",
    "    Dense(240,activation=\"relu\"),\n",
    "    BatchNormalization(),\n",
    "    Dense(120,activation=\"relu\"),\n",
    "    BatchNormalization(),\n",
    "    Dense(60,activation=\"relu\"),\n",
    "    BatchNormalization(),\n",
    "    Dense(5,activation=\"softmax\")\n",
    "])"
   ]
  },
  {
   "cell_type": "code",
   "execution_count": 25,
   "id": "e279f6f0-03c1-4ed4-a954-2d0f19679a82",
   "metadata": {},
   "outputs": [],
   "source": [
    "model_batch_norm.compile(optimizer=\"adam\",loss=\"categorical_crossentropy\",metrics=[\"accuracy\"])"
   ]
  },
  {
   "cell_type": "code",
   "execution_count": 26,
   "id": "966d9777-1255-46ed-be7e-9c7cb5ca20df",
   "metadata": {},
   "outputs": [
    {
     "name": "stdout",
     "output_type": "stream",
     "text": [
      "Epoch 1/20\n",
      "459/459 [==============================] - 281s 576ms/step - loss: 1.3828 - accuracy: 0.4401\n",
      "Epoch 2/20\n",
      "459/459 [==============================] - 265s 578ms/step - loss: 1.2150 - accuracy: 0.5101\n",
      "Epoch 3/20\n",
      "459/459 [==============================] - 266s 580ms/step - loss: 1.1421 - accuracy: 0.5477\n",
      "Epoch 4/20\n",
      "459/459 [==============================] - 264s 576ms/step - loss: 1.1054 - accuracy: 0.5621\n",
      "Epoch 5/20\n",
      "459/459 [==============================] - 265s 576ms/step - loss: 1.1051 - accuracy: 0.5657\n",
      "Epoch 6/20\n",
      "459/459 [==============================] - 264s 574ms/step - loss: 1.0495 - accuracy: 0.5869\n",
      "Epoch 7/20\n",
      "459/459 [==============================] - 267s 582ms/step - loss: 1.0073 - accuracy: 0.6084\n",
      "Epoch 8/20\n",
      "459/459 [==============================] - 270s 588ms/step - loss: 1.0050 - accuracy: 0.6084\n",
      "Epoch 9/20\n",
      "459/459 [==============================] - 266s 579ms/step - loss: 0.9864 - accuracy: 0.6191\n",
      "Epoch 10/20\n",
      "459/459 [==============================] - 267s 581ms/step - loss: 0.9573 - accuracy: 0.6341\n",
      "Epoch 11/20\n",
      "459/459 [==============================] - 267s 582ms/step - loss: 0.9606 - accuracy: 0.6327\n",
      "Epoch 12/20\n",
      "459/459 [==============================] - 268s 583ms/step - loss: 0.9169 - accuracy: 0.6529\n",
      "Epoch 13/20\n",
      "459/459 [==============================] - 266s 578ms/step - loss: 0.8987 - accuracy: 0.6602\n",
      "Epoch 14/20\n",
      "459/459 [==============================] - 266s 578ms/step - loss: 0.8984 - accuracy: 0.6616\n",
      "Epoch 15/20\n",
      "459/459 [==============================] - 266s 580ms/step - loss: 0.8716 - accuracy: 0.6668\n",
      "Epoch 16/20\n",
      "459/459 [==============================] - 266s 580ms/step - loss: 0.8865 - accuracy: 0.6681\n",
      "Epoch 17/20\n",
      "459/459 [==============================] - 266s 579ms/step - loss: 0.8512 - accuracy: 0.6883\n",
      "Epoch 18/20\n",
      "459/459 [==============================] - 266s 580ms/step - loss: 0.8281 - accuracy: 0.6948\n",
      "Epoch 19/20\n",
      "459/459 [==============================] - 266s 578ms/step - loss: 0.7997 - accuracy: 0.7033\n",
      "Epoch 20/20\n",
      "459/459 [==============================] - 266s 579ms/step - loss: 0.7956 - accuracy: 0.7038\n",
      "CPU times: total: 5h 16min 15s\n",
      "Wall time: 1h 29min 1s\n"
     ]
    },
    {
     "data": {
      "text/plain": [
       "<keras.callbacks.History at 0x1e4b3c6aa90>"
      ]
     },
     "execution_count": 26,
     "metadata": {},
     "output_type": "execute_result"
    }
   ],
   "source": [
    "%%time\n",
    "model_batch_norm.fit(dataset_gul,epochs=20)"
   ]
  },
  {
   "cell_type": "code",
   "execution_count": null,
   "id": "15d336c7-9efd-40d8-a5ac-e10a900b2e6a",
   "metadata": {},
   "outputs": [],
   "source": []
  }
 ],
 "metadata": {
  "kernelspec": {
   "display_name": "Python 3 (ipykernel)",
   "language": "python",
   "name": "python3"
  },
  "language_info": {
   "codemirror_mode": {
    "name": "ipython",
    "version": 3
   },
   "file_extension": ".py",
   "mimetype": "text/x-python",
   "name": "python",
   "nbconvert_exporter": "python",
   "pygments_lexer": "ipython3",
   "version": "3.9.8"
  }
 },
 "nbformat": 4,
 "nbformat_minor": 5
}
